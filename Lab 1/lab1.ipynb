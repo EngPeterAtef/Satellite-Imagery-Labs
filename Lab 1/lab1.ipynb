{
  "nbformat": 4,
  "nbformat_minor": 0,
  "metadata": {
    "colab": {
      "provenance": []
    },
    "kernelspec": {
      "name": "python3",
      "display_name": "Python 3"
    },
    "language_info": {
      "name": "python"
    }
  },
  "cells": [
    {
      "cell_type": "markdown",
      "source": [
        "Random bad pixels in satellite imagery can be caused by various factors such as sensor noise, transmission errors, or even hardware malfunctions. These bad pixels can negatively affect the quality of the imagery, and thus, can affect the accuracy of any analysis or interpretation of the imagery.\n",
        "\n",
        "One approach to solve random bad pixels is to apply an algorithm that detects and replaces the bad pixels with values that are similar to the surrounding pixels. Here are the general steps to apply such an algorithm:\n",
        "\n",
        "1- Identify the bad pixels in the image. This can be done using various methods such as visual inspection or automated detection algorithms.\n",
        "\n",
        "2- Define a neighborhood around each bad pixel. The size of the neighborhood will depend on the characteristics of the imagery and the severity of the bad pixel.\n",
        "\n",
        "3- Calculate the statistical properties of the pixels within the neighborhood, such as average.\n",
        "\n",
        "4- Replace the bad pixel with the statistical value calculated in step 3. This can be done using various methods such as interpolation, spatial filtering, or regression analysis.\n",
        "\n",
        "5- Repeat steps 2-4 for all the bad pixels in the image.\n",
        "\n",
        "There are various algorithms that can be used to solve random bad pixels in satellite imagery, such as median filtering, nearest neighbor interpolation, or wavelet-based denoising. The choice of algorithm will depend on the characteristics of the imagery and the specific requirements of the analysis or application. It's worth noting that while these algorithms can improve the quality of the imagery, they may also introduce some level of smoothing or blurring to the image, which can affect the accuracy of some types of analysis or interpretation."
      ],
      "metadata": {
        "id": "dcNfcMUzfoKk"
      }
    },
    {
      "cell_type": "code",
      "source": [
        "!pip install earthpy gdal"
      ],
      "metadata": {
        "id": "LM0LMeNd9b4f"
      },
      "execution_count": null,
      "outputs": []
    },
    {
      "cell_type": "markdown",
      "source": [
        "#TODO\n",
        "\n",
        "Team Members:\n",
        "\n",
        "1-\n",
        "\n",
        "2- "
      ],
      "metadata": {
        "id": "lmSUYsuDQ6XT"
      }
    },
    {
      "cell_type": "code",
      "source": [
        "##Import all needed libraries\n",
        "import numpy as np\n",
        "from sklearn import cluster\n",
        "from osgeo import gdal, gdal_array\n",
        "import matplotlib.pyplot as plt\n",
        "import earthpy.plot as ep\n",
        "import earthpy.spatial as es\n",
        "import cv2\n"
      ],
      "metadata": {
        "id": "S_1ZEjr_9he1"
      },
      "execution_count": null,
      "outputs": []
    },
    {
      "cell_type": "code",
      "source": [
        "##The dataset is loaded to your GDrive so need to be mounted\n",
        "from google.colab import drive\n",
        "drive.mount('/content/drive')"
      ],
      "metadata": {
        "colab": {
          "base_uri": "https://localhost:8080/"
        },
        "id": "-acP7PiW9MKn",
        "outputId": "b168cfc1-f3cf-4f22-cf5b-9ce96dec2e14"
      },
      "execution_count": null,
      "outputs": [
        {
          "output_type": "stream",
          "name": "stdout",
          "text": [
            "Mounted at /content/drive\n"
          ]
        }
      ]
    },
    {
      "cell_type": "markdown",
      "source": [
        "# Q1- Implement Random bad pixel removal algorithm\n",
        "Shot noise is identified and repaired using the following methodology:\n",
        "- First locate each bad pixel in the band k dataset: a simple thresholding algorithm makes a pass through the\n",
        "dataset and flags any pixel (BVi,j,k) having a brightness value of zero (while the surrounding pixels are not 0).\n",
        "- Once identified, it is then possible to evaluate the eight pixels surrounding the flagged pixel.\n",
        "\n",
        "## Information provided as an output\n",
        "### For each band display the following\n",
        "  1- How many pixels are corrected in each band?\n",
        "\n",
        "  2- Original image and the corrected image.\n",
        "\n"
      ],
      "metadata": {
        "id": "ptjmlGc_Bb7L"
      }
    },
    {
      "cell_type": "code",
      "source": [
        "#Read in raster image 'RBN_Forest_27.tif'\n",
        "\n",
        "# TODO: loop on all bands\n",
        "for i in range(1):\n",
        "  num_of_pixels_corrected = 0\n",
        "  # TODO: Extract band data\n",
        " \n",
        "  # TODO: Create a new image to store the corrected image pixels.\n",
        "\n",
        "  # TODO: Apply random bad pixel removal algorithm.\n",
        "  \n",
        "  # TODO: Display the original image, corrected image, and number of corrected pixels\n",
        "  fig, axs = plt.subplots(1, 2, figsize=(10, 5))\n",
        "  axs[0].imshow(img, cmap='gray')\n",
        "  axs[0].set_title('Original Image')\n",
        "  axs[1].imshow(corrected_img, cmap='gray')\n",
        "  axs[1].set_title('Corrected Image')\n",
        "  plt.show()\n",
        "  print(\"Number of corrected pixels is {} in band#{}\".format(num_of_pixels_corrected, i))"
      ],
      "metadata": {
        "id": "xH2I61Eu-NEg"
      },
      "execution_count": null,
      "outputs": []
    },
    {
      "cell_type": "markdown",
      "source": [
        "# Q2- Implement Haze Removal by Dark Subtraction\n",
        "\n",
        "## Information provided as an output\n",
        "### Cell#1 : For each band\n",
        "  1- Histogram.\n",
        "\n",
        "  2- Threshold that will be used.\n",
        "\n",
        "  3- Range of the values (min pixel intensity, max pixel intensity)\n",
        "\n",
        "### Cell#2 : For each band \n",
        "  4- Original image and the corrected image.\n",
        "\n",
        "### Cell#3 : For each band\n",
        "  5- Histogram.\n",
        "\n",
        "  6- Range of the values (min pixel intensity, max pixel intensity)"
      ],
      "metadata": {
        "id": "LIVkteXMDpxO"
      }
    },
    {
      "cell_type": "code",
      "source": [
        "# Cell#1 \n",
        "\n",
        "#Read in raster image 'haze_img.png'\n",
        "\n",
        "# TODO: loop on all bands\n",
        "for band_num in range(1):\n",
        "  \n",
        "    plt.title('Histogram for Band#{}'.format(band_num))\n",
        "    plt.show()\n",
        "    threshold = 0\n",
        "    min = 0\n",
        "    max = 0\n",
        "    # TODO: Display threshold value that will be used for this band.\n",
        "    print(\"Threshold for this band is: {}\".format(threshold))\n",
        "    # TODO: Display the range of values in this band\n",
        "    print(\"Range of values are : ({}, {})\".format(min, max))\n",
        "  \n"
      ],
      "metadata": {
        "id": "Q8ZZ70YlDbXp"
      },
      "execution_count": null,
      "outputs": []
    },
    {
      "cell_type": "code",
      "source": [
        "# Cell#2\n",
        "# TODO: Copy original image into a new image.\n",
        "\n",
        "# TODO: loop on all bands\n",
        "for band_num in range(1):\n",
        "    # TODO: Apply Haze Removal by Dark Subtraction\n"
      ],
      "metadata": {
        "id": "QDLjDNGhGoLR"
      },
      "execution_count": null,
      "outputs": []
    },
    {
      "cell_type": "code",
      "source": [
        "# Cell#3\n",
        "\n",
        "# TODO: loop on all bands\n",
        "for band_num in range(1):\n",
        "    # TODO: Extract band data.\n",
        "\n",
        "    # TODO: Plot the histogram\n",
        "\n",
        "    min = 0\n",
        "    max = 0\n",
        "    plt.title('Histogram for Band#{}'.format(band_num))\n",
        "    plt.show()\n",
        "    # TODO: Display the range of values in this band\n",
        "    print(\"Range of values are : ({}, {})\".format(min, max))"
      ],
      "metadata": {
        "id": "G5NzTwe3M8s9"
      },
      "execution_count": null,
      "outputs": []
    }
  ]
}