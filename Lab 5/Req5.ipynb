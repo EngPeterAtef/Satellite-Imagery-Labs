{
  "nbformat": 4,
  "nbformat_minor": 0,
  "metadata": {
    "colab": {
      "provenance": [],
      "gpuType": "T4"
    },
    "kernelspec": {
      "name": "python3",
      "display_name": "Python 3"
    },
    "language_info": {
      "name": "python"
    },
    "accelerator": "GPU",
    "gpuClass": "standard"
  },
  "cells": [
    {
      "cell_type": "code",
      "source": [
        "import torch\n",
        "import torch.nn as nn\n",
        "from torchvision import models\n",
        "\n",
        "\n",
        "class UNet(nn.Module):\n",
        "\n",
        "    def __init__(self, n_class):\n",
        "        super().__init__()\n",
        "\n",
        "        # TODO: Define needed layers, use n_class variable in the last layer.\n",
        "        \n",
        "        \n",
        "    def forward(self, x):\n",
        "        # TODO: Define forward function\n",
        "        \n",
        "        return out"
      ],
      "metadata": {
        "id": "a1YDmALM6NW7"
      },
      "execution_count": 1,
      "outputs": []
    },
    {
      "cell_type": "code",
      "source": [
        "import req5\n",
        "\n",
        "req5.run(UNet)"
      ],
      "metadata": {
        "id": "tPURgYEKSMgq"
      },
      "execution_count": null,
      "outputs": []
    }
  ]
}