{
  "cells": [
    {
      "cell_type": "markdown",
      "metadata": {
        "id": "uvAt4M93kxcJ"
      },
      "source": [
        "## Students Information\n",
        "\n",
        "Please enter the names and IDs of the two students below:\n",
        "\n",
        "1. **Name**: Peter Atef  \n",
        "   **ID**: `9202395`\n",
        "\n",
        "2. **Name**: Beshoy Morad  \n",
        "   **ID**: `9202405`\n"
      ]
    },
    {
      "cell_type": "markdown",
      "metadata": {
        "id": "HkqC7BRckxcP"
      },
      "source": [
        "## Students Instructions\n",
        "\n",
        "This is your first graded lab assignment, as you put the work you have studied in the lectures in action, please take this opportunity to enhance your understanding of the concepts and hone your skills. As you work on your assignment, please keep the following instructions in mind:\n",
        "\n",
        "- Clearly state your personal information where indicated.\n",
        "- Be ready with your work before the time of the next discussion slot in the schedule.\n",
        "- Plagiarism will be met with penalties, refrain from copying any answers to make the most out of the assignment. If any signs of plagiarism are detected, actions will be taken.\n",
        "- It is acceptable to share the workload of the assignment bearing the discussion in mind.\n",
        "- Feel free to [reach out](mailto:cmpsy27@gmail.com) if there were any ambiguities or post on the classroom."
      ]
    },
    {
      "cell_type": "markdown",
      "metadata": {
        "id": "9whWSjbSkxcR"
      },
      "source": [
        "## Submission Instructions\n",
        "\n",
        "To ensure a smooth evaluation process, please follow these steps for submitting your work:\n",
        "\n",
        "1. **Prepare Your Submission:** Alongside your main notebook, include any additional files that are necessary for running the notebook successfully. This might include data files, images, or supplementary scripts.\n",
        "\n",
        "2. **Rename Your Files:** Before submission, please rename your notebook to reflect the IDs of the two students working on this project. The format should be `ID1_ID2`, where `ID1` and `ID2` are the student IDs. For example, if the student IDs are `9123456` and `9876543`, then your notebook should be named `9123456_9876543.ipynb`.\n",
        "\n",
        "3. **Check for Completeness:** Ensure that all required tasks are completed and that the notebook runs from start to finish without errors. This step is crucial for a smooth evaluation.\n",
        "\n",
        "4. **Submit Your Work:** Once everything is in order, submit your notebook and any additional files via the designated submission link on Google Classroom **(code: 2yj6e24)**. Make sure you meet the submission deadline to avoid any late penalties.\n",
        "5. Please, note that the same student should submit the assignments for the pair throughout the semester.\n",
        "\n",
        "By following these instructions carefully, you help us in evaluating your work efficiently and fairly **and any failure to adhere to these guidelines can affect your grades**. If you encounter any difficulties or have questions about the submission process, please reach out as soon as possible.\n",
        "\n",
        "We look forward to seeing your completed projects and wish you the best of luck!\n"
      ]
    },
    {
      "cell_type": "markdown",
      "metadata": {
        "id": "SIlHTnVtkxcR"
      },
      "source": [
        "\n",
        "\n",
        "\n",
        "## Installation Instructions\n",
        "\n",
        "In this lab assignment, we require additional Python libraries for scientific mathematics, particularly in the context of machine learning (ML) and satellite image analysis. To fulfill these requirements, we need to install Scikit-learn and Scikit-image.\n",
        "1. Install Scikit-learn  \n",
        "Scikit-learn (Sklearn) is a powerful Python library for ML tasks, offering various algorithms for classification, regression, clustering, and model evaluation. It is extensively used for analyzing satellite imagery, enabling tasks such as land cover classification and environmental parameter prediction. On the other hand, Scikit-image (Skimage) provides comprehensive tools for image processing and computer vision, facilitating tasks such as image preprocessing, feature extraction, and segmentation. These libraries are essential for extracting valuable insights from satellite images and conducting advanced analysis in scientific computing and research domains.\n",
        "```bash\n",
        "pip install scikit-learn scikit-image\n",
        "```\n"
      ]
    },
    {
      "cell_type": "markdown",
      "metadata": {
        "id": "IAh-rg-_kxcS"
      },
      "source": [
        "> **Note:** You are allowed to install any other necessary libraries you deem useful for solving the lab. Please ensure that any additional libraries are compatible with the project requirements and are properly documented in your submission.\n"
      ]
    },
    {
      "cell_type": "markdown",
      "metadata": {
        "id": "JyEf0wBkkxcT"
      },
      "source": [
        "## Maximum Likelihood Estimator (MLE) Classifier\n",
        "The Maximum Likelihood Estimator (MLE) is a fundamental statistical approach used to infer the parameters of a given distribution that are most likely to result in the observed data. In the context of image classification, MLE helps to quantify the probability of observing the data within each predefined class based on their distinct statistical properties. This method is highly effective for classifying images into categories by comparing the likelihoods of the data under different model parameters, enabling the most probable class assignment.\n",
        "\n",
        "1. **Calculate Class Priors**: Estimate the probability of each class based on the training dataset. This is expressed as:\n",
        "   $$\n",
        "   P(C_k) = \\frac{N_k}{N}\n",
        "   $$\n",
        "   where \\(N_k\\) is the number of samples of class \\(k\\) and \\(N\\) is the total number of samples.\n",
        "\n",
        "2. **Estimate Class-specific Parameters**: For each class, estimate parameters such as the mean \\(\\mu_k\\) and covariance \\(\\Sigma_k\\) of features that describe the distribution of the data:\n",
        "   $$\n",
        "   \\mu_k = \\frac{1}{N_k} \\sum_{x \\in C_k} x\n",
        "   $$\n",
        "   $$\n",
        "   \\Sigma_k = \\frac{1}{N_k} \\sum_{x \\in C_k} (x - \\mu_k)(x - \\mu_k)^T\n",
        "   $$\n",
        "\n",
        "3. **Compute Likelihoods**: For a given test instance \\(x\\), compute the likelihood of that instance belonging to each class using the estimated parameters:\n",
        "   $$\n",
        "   p(x | C_k) = \\frac{1}{(2\\pi)^{d/2} |\\Sigma_k|^{1/2}} \\exp\\left(-\\frac{1}{2} (x - \\mu_k)^T \\Sigma_k^{-1} (x - \\mu_k)\\right)\n",
        "   $$\n",
        "\n",
        "4. **Classify Based on Maximum Likelihood**: Assign the class label to each test instance based on the highest likelihood, which can be calculated as:\n",
        "   $$\n",
        "   \\hat{y} = \\arg\\max_{k} P(C_k) \\cdot p(x | C_k)\n",
        "   $$\n",
        "\n",
        "The Naive Bayes classifier is perhaps the most well-known application of the Maximum Likelihood Estimator principle in classification tasks. It assumes that the features in each class are independent, simplifying the computation of likelihoods. While Naive Bayes is popular for its simplicity and efficiency, it is not the only technique that leverages the MLE approach. Other classical alternatives include Logistic Regression, which applies MLE to estimate the parameters that best predict categorical outcomes, and Gaussian Mixture Models, which use MLE to estimate the parameters of multiple Gaussian distributions within the data. Students are encouraged to explore these models to gain a deeper understanding of statistical estimation techniques.\n"
      ]
    },
    {
      "cell_type": "markdown",
      "metadata": {
        "id": "p6JG_U-mkxcT"
      },
      "source": [
        "## Req- Image Classification for EuroSATallBands\n",
        "Image classification is a key challenge in satellite imaging and remote sensing. As discussed in the lecture, this task is typically conducted on a pixel-wise basis because a single image can contain multiple textural elements of different celestial features. However, for this specific assignment, we will focus on identifying the dominant phenomena in the image as the basis for classification.\n",
        "\n",
        "- **Load the Images**: Load the images of the EuroSAT dataset that belong to the **residential**, **river**, and **forest** classes.\n",
        "\n",
        "- **Split the Dataset**: Split the dataset such that 10% of each class is used as testing data, and the remainder is used for training your classifier. Use the indices provided by `np.random.choice` with seed set to `27`. **Code is provided do not change it**.\n",
        "\n",
        "- **Feature Extraction**: Extract suitable features from the images that you think might be relevant in distinguishing each class from the others. Keep in mind the curse of dimensionality when selecting features.\n",
        "\n",
        "- **Implement a Maximum Likelihood Estimator (MLE)**: Implement a Maximum Likelihood Estimator (MLE) based on your training data.\n",
        "- **Report Accuracy and Average F1 Score**: After testing your classifier on the test set, report the **Accuracy** and **Average F1 Score** of your model.\n"
      ]
    },
    {
      "cell_type": "code",
      "execution_count": 2,
      "metadata": {
        "colab": {
          "base_uri": "https://localhost:8080/"
        },
        "id": "CV06lFc1lS6s",
        "outputId": "0b1a188e-85cf-44b2-8c4c-6f9336fb5fa8"
      },
      "outputs": [
        {
          "name": "stdout",
          "output_type": "stream",
          "text": [
            "Requirement already satisfied: scikit-learn in /usr/local/lib/python3.10/dist-packages (1.2.2)\n",
            "Requirement already satisfied: scikit-image in /usr/local/lib/python3.10/dist-packages (0.19.3)\n",
            "Requirement already satisfied: numpy>=1.17.3 in /usr/local/lib/python3.10/dist-packages (from scikit-learn) (1.25.2)\n",
            "Requirement already satisfied: scipy>=1.3.2 in /usr/local/lib/python3.10/dist-packages (from scikit-learn) (1.11.4)\n",
            "Requirement already satisfied: joblib>=1.1.1 in /usr/local/lib/python3.10/dist-packages (from scikit-learn) (1.4.0)\n",
            "Requirement already satisfied: threadpoolctl>=2.0.0 in /usr/local/lib/python3.10/dist-packages (from scikit-learn) (3.4.0)\n",
            "Requirement already satisfied: networkx>=2.2 in /usr/local/lib/python3.10/dist-packages (from scikit-image) (3.3)\n",
            "Requirement already satisfied: pillow!=7.1.0,!=7.1.1,!=8.3.0,>=6.1.0 in /usr/local/lib/python3.10/dist-packages (from scikit-image) (9.4.0)\n",
            "Requirement already satisfied: imageio>=2.4.1 in /usr/local/lib/python3.10/dist-packages (from scikit-image) (2.31.6)\n",
            "Requirement already satisfied: tifffile>=2019.7.26 in /usr/local/lib/python3.10/dist-packages (from scikit-image) (2024.2.12)\n",
            "Requirement already satisfied: PyWavelets>=1.1.1 in /usr/local/lib/python3.10/dist-packages (from scikit-image) (1.6.0)\n",
            "Requirement already satisfied: packaging>=20.0 in /usr/local/lib/python3.10/dist-packages (from scikit-image) (24.0)\n"
          ]
        }
      ],
      "source": [
        "!pip install scikit-learn scikit-image"
      ]
    },
    {
      "cell_type": "code",
      "execution_count": 3,
      "metadata": {
        "colab": {
          "base_uri": "https://localhost:8080/"
        },
        "id": "D2zxLjf1vWZr",
        "outputId": "3215f61e-ff46-4646-bcef-a15e7b82a0e9"
      },
      "outputs": [
        {
          "name": "stdout",
          "output_type": "stream",
          "text": [
            "Collecting earthpy\n",
            "  Downloading earthpy-0.9.4-py3-none-any.whl (1.4 MB)\n",
            "\u001b[2K     \u001b[90m━━━━━━━━━━━━━━━━━━━━━━━━━━━━━━━━━━━━━━━━\u001b[0m \u001b[32m1.4/1.4 MB\u001b[0m \u001b[31m13.5 MB/s\u001b[0m eta \u001b[36m0:00:00\u001b[0m\n",
            "\u001b[?25hRequirement already satisfied: gdal in /usr/local/lib/python3.10/dist-packages (3.4.1)\n",
            "Requirement already satisfied: geopandas in /usr/local/lib/python3.10/dist-packages (from earthpy) (0.13.2)\n",
            "Requirement already satisfied: matplotlib>=2.0.0 in /usr/local/lib/python3.10/dist-packages (from earthpy) (3.7.1)\n",
            "Requirement already satisfied: numpy>=1.14.0 in /usr/local/lib/python3.10/dist-packages (from earthpy) (1.25.2)\n",
            "Collecting rasterio (from earthpy)\n",
            "  Downloading rasterio-1.3.10-cp310-cp310-manylinux2014_x86_64.whl (21.5 MB)\n",
            "\u001b[2K     \u001b[90m━━━━━━━━━━━━━━━━━━━━━━━━━━━━━━━━━━━━━━━━\u001b[0m \u001b[32m21.5/21.5 MB\u001b[0m \u001b[31m53.0 MB/s\u001b[0m eta \u001b[36m0:00:00\u001b[0m\n",
            "\u001b[?25hRequirement already satisfied: scikit-image in /usr/local/lib/python3.10/dist-packages (from earthpy) (0.19.3)\n",
            "Requirement already satisfied: requests in /usr/local/lib/python3.10/dist-packages (from earthpy) (2.31.0)\n",
            "Requirement already satisfied: contourpy>=1.0.1 in /usr/local/lib/python3.10/dist-packages (from matplotlib>=2.0.0->earthpy) (1.2.1)\n",
            "Requirement already satisfied: cycler>=0.10 in /usr/local/lib/python3.10/dist-packages (from matplotlib>=2.0.0->earthpy) (0.12.1)\n",
            "Requirement already satisfied: fonttools>=4.22.0 in /usr/local/lib/python3.10/dist-packages (from matplotlib>=2.0.0->earthpy) (4.51.0)\n",
            "Requirement already satisfied: kiwisolver>=1.0.1 in /usr/local/lib/python3.10/dist-packages (from matplotlib>=2.0.0->earthpy) (1.4.5)\n",
            "Requirement already satisfied: packaging>=20.0 in /usr/local/lib/python3.10/dist-packages (from matplotlib>=2.0.0->earthpy) (24.0)\n",
            "Requirement already satisfied: pillow>=6.2.0 in /usr/local/lib/python3.10/dist-packages (from matplotlib>=2.0.0->earthpy) (9.4.0)\n",
            "Requirement already satisfied: pyparsing>=2.3.1 in /usr/local/lib/python3.10/dist-packages (from matplotlib>=2.0.0->earthpy) (3.1.2)\n",
            "Requirement already satisfied: python-dateutil>=2.7 in /usr/local/lib/python3.10/dist-packages (from matplotlib>=2.0.0->earthpy) (2.8.2)\n",
            "Requirement already satisfied: fiona>=1.8.19 in /usr/local/lib/python3.10/dist-packages (from geopandas->earthpy) (1.9.6)\n",
            "Requirement already satisfied: pandas>=1.1.0 in /usr/local/lib/python3.10/dist-packages (from geopandas->earthpy) (2.0.3)\n",
            "Requirement already satisfied: pyproj>=3.0.1 in /usr/local/lib/python3.10/dist-packages (from geopandas->earthpy) (3.6.1)\n",
            "Requirement already satisfied: shapely>=1.7.1 in /usr/local/lib/python3.10/dist-packages (from geopandas->earthpy) (2.0.4)\n",
            "Collecting affine (from rasterio->earthpy)\n",
            "  Downloading affine-2.4.0-py3-none-any.whl (15 kB)\n",
            "Requirement already satisfied: attrs in /usr/local/lib/python3.10/dist-packages (from rasterio->earthpy) (23.2.0)\n",
            "Requirement already satisfied: certifi in /usr/local/lib/python3.10/dist-packages (from rasterio->earthpy) (2024.2.2)\n",
            "Requirement already satisfied: click>=4.0 in /usr/local/lib/python3.10/dist-packages (from rasterio->earthpy) (8.1.7)\n",
            "Requirement already satisfied: cligj>=0.5 in /usr/local/lib/python3.10/dist-packages (from rasterio->earthpy) (0.7.2)\n",
            "Collecting snuggs>=1.4.1 (from rasterio->earthpy)\n",
            "  Downloading snuggs-1.4.7-py3-none-any.whl (5.4 kB)\n",
            "Requirement already satisfied: click-plugins in /usr/local/lib/python3.10/dist-packages (from rasterio->earthpy) (1.1.1)\n",
            "Requirement already satisfied: setuptools in /usr/local/lib/python3.10/dist-packages (from rasterio->earthpy) (67.7.2)\n",
            "Requirement already satisfied: charset-normalizer<4,>=2 in /usr/local/lib/python3.10/dist-packages (from requests->earthpy) (3.3.2)\n",
            "Requirement already satisfied: idna<4,>=2.5 in /usr/local/lib/python3.10/dist-packages (from requests->earthpy) (3.7)\n",
            "Requirement already satisfied: urllib3<3,>=1.21.1 in /usr/local/lib/python3.10/dist-packages (from requests->earthpy) (2.0.7)\n",
            "Requirement already satisfied: scipy>=1.4.1 in /usr/local/lib/python3.10/dist-packages (from scikit-image->earthpy) (1.11.4)\n",
            "Requirement already satisfied: networkx>=2.2 in /usr/local/lib/python3.10/dist-packages (from scikit-image->earthpy) (3.3)\n",
            "Requirement already satisfied: imageio>=2.4.1 in /usr/local/lib/python3.10/dist-packages (from scikit-image->earthpy) (2.31.6)\n",
            "Requirement already satisfied: tifffile>=2019.7.26 in /usr/local/lib/python3.10/dist-packages (from scikit-image->earthpy) (2024.2.12)\n",
            "Requirement already satisfied: PyWavelets>=1.1.1 in /usr/local/lib/python3.10/dist-packages (from scikit-image->earthpy) (1.6.0)\n",
            "Requirement already satisfied: six in /usr/local/lib/python3.10/dist-packages (from fiona>=1.8.19->geopandas->earthpy) (1.16.0)\n",
            "Requirement already satisfied: pytz>=2020.1 in /usr/local/lib/python3.10/dist-packages (from pandas>=1.1.0->geopandas->earthpy) (2023.4)\n",
            "Requirement already satisfied: tzdata>=2022.1 in /usr/local/lib/python3.10/dist-packages (from pandas>=1.1.0->geopandas->earthpy) (2024.1)\n",
            "Installing collected packages: snuggs, affine, rasterio, earthpy\n",
            "Successfully installed affine-2.4.0 earthpy-0.9.4 rasterio-1.3.10 snuggs-1.4.7\n"
          ]
        }
      ],
      "source": [
        "!pip install earthpy gdal"
      ]
    },
    {
      "cell_type": "code",
      "execution_count": 8,
      "metadata": {
        "colab": {
          "base_uri": "https://localhost:8080/"
        },
        "id": "SMh2TmY1l0mN",
        "outputId": "5a2ec65c-d6d0-44f0-ce43-4a0fe7bbe97a"
      },
      "outputs": [
        {
          "name": "stdout",
          "output_type": "stream",
          "text": [
            "Mounted at /content/drive\n"
          ]
        }
      ],
      "source": [
        "from google.colab import drive\n",
        "drive.mount('/content/drive')"
      ]
    },
    {
      "cell_type": "code",
      "execution_count": null,
      "metadata": {
        "id": "uTKdKRQ_mECW"
      },
      "outputs": [],
      "source": [
        "# Unzip the dataset\n",
        "!unzip \"/content/drive/MyDrive/Colab Notebooks/dataset/EuroSATallBands.zip\" -d \"/content/drive/MyDrive/Colab Notebooks/dataset\""
      ]
    },
    {
      "cell_type": "code",
      "execution_count": 4,
      "metadata": {
        "id": "fIyM4EZZkxcU"
      },
      "outputs": [],
      "source": [
        "# Add your libraries here\n",
        "import numpy as np\n",
        "import cv2\n",
        "import os\n",
        "from osgeo import gdal\n",
        "import earthpy.spatial as es\n",
        "from sklearn.naive_bayes import GaussianNB\n",
        "from sklearn.metrics import accuracy_score, classification_report, confusion_matrix\n",
        "import matplotlib.pyplot as plt\n",
        "import seaborn as sns"
      ]
    },
    {
      "cell_type": "code",
      "execution_count": 5,
      "metadata": {
        "id": "r8W3Nzziwncd"
      },
      "outputs": [],
      "source": [
        "# Tell GDAL to throw Python exceptions, and register all drivers\n",
        "gdal.UseExceptions()\n",
        "gdal.AllRegister()"
      ]
    },
    {
      "cell_type": "code",
      "execution_count": 6,
      "metadata": {
        "id": "PplW0ETRkxcW"
      },
      "outputs": [],
      "source": [
        "# DO NOT CHANGE THIS CELL\n",
        "## Training set indices.\n",
        "np.random.seed(27)  # Set random seed for reproducibility\n",
        "\n",
        "# Randomly select indices for the test sets for each class\n",
        "residential_test_indices = np.random.choice(np.arange(3000), size=300, replace=False)\n",
        "forest_test_indices = np.random.choice(np.arange(3000), size=300, replace=False)\n",
        "river_test_indices = np.random.choice(np.arange(2500), size=250, replace=False)\n"
      ]
    },
    {
      "cell_type": "markdown",
      "metadata": {
        "id": "uJvMxYYhkxcX"
      },
      "source": [
        "### Grading Rubric (Total: 10 Marks)\n",
        "\n",
        "The lab is graded based on the following criteria:\n",
        "\n",
        "1. **Data Loading and Preparation (2 Marks)**\n",
        "   - Correctly loads images for the residential, river, and forest classes. (0.5 Marks)\n",
        "   - Accurately splits the dataset into training and testing subsets and clearly shows this split. (1.5 Marks)\n",
        "\n",
        "2. **Feature Extraction (2 Marks)**\n",
        "   - Implements feature extraction appropriately, considering the curse of dimensionality. (1 Mark)\n",
        "   - Extracts and justifies the selection of features relevant to distinguishing the classes. (1 Mark)\n",
        "\n",
        "3. **Implementation of MLE Classifier (3 Marks)**\n",
        "   - Correctly calculates and clearly shows class priors and class-specific parameters. (1 Mark)\n",
        "   - Accurately computes likelihoods using the likelihood equation (probability density function) and classifies based on maximum likelihood. Must clearly show these calculations and explain the choice of likelihood equation. (2 Marks)\n",
        "\n",
        "4. **Model Evaluation and Understanding (3 Marks)**\n",
        "   - Shows **confusion matrix** and correctly calculates and clearly shows the calculations for Accuracy and Average F1 Score. (1 Mark)\n",
        "   - **Comparison amongst your peers.** Compares the model's performance against those of peers to identify strengths and areas for improvement. (2 Marks)\n",
        "\n",
        "Each section of the lab will be evaluated on completeness, and correctness in approach and analysis. Part of the rubric also includes the student's ability to explain and justify their choices and results.\n"
      ]
    },
    {
      "cell_type": "markdown",
      "metadata": {
        "id": "fBajNRrB5XQe"
      },
      "source": [
        "# Data Loading and Preparation"
      ]
    },
    {
      "cell_type": "code",
      "execution_count": 9,
      "metadata": {
        "id": "r-onBbmNqeQv"
      },
      "outputs": [],
      "source": [
        "residential_path = \"/content/drive/MyDrive/Colab Notebooks/dataset/EuroSATallBands/ds/images/remote_sensing/otherDatasets/sentinel_2/tif/Residential\"\n",
        "forest_path = \"/content/drive/MyDrive/Colab Notebooks/dataset/EuroSATallBands/ds/images/remote_sensing/otherDatasets/sentinel_2/tif/Forest\"\n",
        "river_path = \"/content/drive/MyDrive/Colab Notebooks/dataset/EuroSATallBands/ds/images/remote_sensing/otherDatasets/sentinel_2/tif/River\"\n",
        "\n",
        "# residential => 0\n",
        "# forest => 1\n",
        "# river => 2\n",
        "\n",
        "\n",
        "def load_images_from_folder(folder):\n",
        "    \"\"\"\n",
        "    Function to load images from a given folder path\n",
        "\n",
        "    Args:\n",
        "        folder (str): Folder path\n",
        "\n",
        "    Returns:\n",
        "        np.array: Array of images\n",
        "    \"\"\"\n",
        "    images = []\n",
        "    for filename in os.listdir(folder):\n",
        "        img = gdal.Open(f\"{folder}/{filename}\", gdal.GA_ReadOnly)\n",
        "        images.append(img)\n",
        "\n",
        "    return np.array(images)\n",
        "\n",
        "# Load images for each class\n",
        "residential_images = load_images_from_folder(residential_path)\n",
        "forest_images = load_images_from_folder(forest_path)\n",
        "river_images = load_images_from_folder(river_path)\n"
      ]
    },
    {
      "cell_type": "code",
      "execution_count": 10,
      "metadata": {
        "colab": {
          "base_uri": "https://localhost:8080/"
        },
        "id": "emg_40HftRft",
        "outputId": "d413b194-daf9-4e76-bab7-303b420dd530"
      },
      "outputs": [
        {
          "name": "stdout",
          "output_type": "stream",
          "text": [
            "Residential:\n",
            "Total: 3000 images\n",
            "Training: 2700 images (90.00% of total)\n",
            "Testing: 300 images (10.00% of total)\n",
            "\n",
            "Forest:\n",
            "Total: 3000 images\n",
            "Training: 2700 images (90.00% of total)\n",
            "Testing: 300 images (10.00% of total)\n",
            "\n",
            "River:\n",
            "Total: 2500 images\n",
            "Training: 2250 images (90.00% of total)\n",
            "Testing: 250 images (10.00% of total)\n"
          ]
        }
      ],
      "source": [
        "# Create training sets using NumPy indexing by removing the test indices\n",
        "residential_train_images = np.delete(residential_images, residential_test_indices)\n",
        "forest_train_images = np.delete(forest_images, forest_test_indices)\n",
        "river_train_images = np.delete(river_images, river_test_indices)\n",
        "\n",
        "# Create testing sets using NumPy indexing\n",
        "residential_test_images = residential_images[residential_test_indices]\n",
        "forest_test_images = forest_images[forest_test_indices]\n",
        "river_test_images = river_images[river_test_indices]\n",
        "\n",
        "# Calculate lengths of datasets\n",
        "residential_total = len(residential_images)\n",
        "forest_total = len(forest_images)\n",
        "river_total = len(river_images)\n",
        "\n",
        "residential_train_length = len(residential_train_images)\n",
        "forest_train_length = len(forest_train_images)\n",
        "river_train_length = len(river_train_images)\n",
        "\n",
        "residential_test_length = len(residential_test_images)\n",
        "forest_test_length = len(forest_test_images)\n",
        "river_test_length = len(river_test_images)\n",
        "\n",
        "# Print percentages and lengths\n",
        "print(\"Residential:\")\n",
        "print(f\"Total: {residential_total} images\")\n",
        "print(f\"Training: {residential_train_length} images ({(residential_train_length / residential_total) * 100:.2f}% of total)\")\n",
        "print(f\"Testing: {residential_test_length} images ({(residential_test_length / residential_total) * 100:.2f}% of total)\")\n",
        "print()\n",
        "\n",
        "print(\"Forest:\")\n",
        "print(f\"Total: {forest_total} images\")\n",
        "print(f\"Training: {forest_train_length} images ({(forest_train_length / forest_total) * 100:.2f}% of total)\")\n",
        "print(f\"Testing: {forest_test_length} images ({(forest_test_length / forest_total) * 100:.2f}% of total)\")\n",
        "print()\n",
        "\n",
        "print(\"River:\")\n",
        "print(f\"Total: {river_total} images\")\n",
        "print(f\"Training: {river_train_length} images ({(river_train_length / river_total) * 100:.2f}% of total)\")\n",
        "print(f\"Testing: {river_test_length} images ({(river_test_length / river_total) * 100:.2f}% of total)\")"
      ]
    },
    {
      "cell_type": "markdown",
      "metadata": {
        "id": "Vrob9VDp5Vae"
      },
      "source": [
        "# Feature Extraction"
      ]
    },
    {
      "cell_type": "code",
      "execution_count": 11,
      "metadata": {
        "id": "uxnehl31yVMN"
      },
      "outputs": [],
      "source": [
        "def extract_sift_features(images):\n",
        "    \"\"\"\n",
        "    Function to extract SIFT features from images\n",
        "\n",
        "    Args:\n",
        "        images (np.array): Array of images\n",
        "\n",
        "    Returns:\n",
        "        np.array: Array of descriptors for each image\n",
        "    \"\"\"\n",
        "    \n",
        "    sift = cv2.SIFT_create()\n",
        "    descriptors_list = []\n",
        "    \n",
        "    for img in images:\n",
        "        # Iterate over each band of the image and extract SIFT features\n",
        "        descriptors_per_band = []\n",
        "        for band in range(img.RasterCount):\n",
        "            # Get the band and convert it to a numpy array\n",
        "            band_data = img.GetRasterBand(band + 1).ReadAsArray().astype(np.uint8)\n",
        "            \n",
        "            # Run SIFT on the band\n",
        "            _, descriptors = sift.detectAndCompute(band_data, None)\n",
        "            descriptors_per_band.append(descriptors)\n",
        "        \n",
        "        # Append the descriptors for each image (13 band)\n",
        "        descriptors_list.append(descriptors_per_band)\n",
        "    \n",
        "    return descriptors_list\n",
        "\n",
        "# Extract SIFT features for each class (expected length for each class is 2700, 2700, 2250)\n",
        "residential_train_descriptors = extract_sift_features(residential_train_images)\n",
        "forest_train_descriptors = extract_sift_features(forest_train_images)\n",
        "river_train_descriptors = extract_sift_features(river_train_images)"
      ]
    },
    {
      "cell_type": "code",
      "execution_count": 21,
      "metadata": {
        "id": "uU8h6NrK8I8N"
      },
      "outputs": [],
      "source": [
        "def mean_descriptors(images_descriptors, images):\n",
        "    \"\"\"\n",
        "    Function to calculate the final feature vector for each image\n",
        "\n",
        "    Args:\n",
        "        images_descriptors (np.array): Array of descriptors for each image\n",
        "        images (np.array): Array of images\n",
        "\n",
        "    Returns:\n",
        "        np.array: Array of features for each image\n",
        "    \"\"\"\n",
        "    # List of features for each image\n",
        "    images_features = []\n",
        "    \n",
        "    for i in range(len(images_descriptors)):\n",
        "        band_means = []\n",
        "        for band in images_descriptors[i]:\n",
        "            if band is not None:\n",
        "                band_means.append(np.mean(band))\n",
        "            else:\n",
        "                # In case there are no descriptors we need to append a small value\n",
        "                # so that the length of the feature vector of each image is the same\n",
        "                \n",
        "                # Set mean to 0.01 if there are no descriptors\n",
        "                # to avoid getting a singular conv matrix in the training\n",
        "                band_means.append(0.01)\n",
        "\n",
        "        # Get the bands required to calculate the vegination index, the water index, and the color infrared\n",
        "        B3 = images[i].GetRasterBand(3).ReadAsArray()\n",
        "        B4 = images[i].GetRasterBand(4).ReadAsArray()\n",
        "        B8 = images[i].GetRasterBand(8).ReadAsArray()\n",
        "\n",
        "        VegIndex = es.normalized_diff(B8, B4)\n",
        "        WaterIndex = es.normalized_diff(B8, B3)\n",
        "        ColorInfrared = (B3 + B4 + B8) / 3\n",
        "\n",
        "        veg_index_mean = np.mean(VegIndex)\n",
        "        water_index_mean = np.mean(WaterIndex)\n",
        "        color_infrared_mean = np.mean(ColorInfrared)\n",
        "\n",
        "        images_features.append(np.concatenate((band_means, [veg_index_mean, water_index_mean, color_infrared_mean])))\n",
        "    return np.array(images_features)\n",
        "\n",
        "mean_residential_train_descriptors = mean_descriptors(residential_train_descriptors, residential_train_images)\n",
        "mean_forest_train_descriptors = mean_descriptors(forest_train_descriptors, forest_train_images)\n",
        "mean_river_train_descriptors = mean_descriptors(river_train_descriptors, river_train_images)"
      ]
    },
    {
      "cell_type": "code",
      "execution_count": 24,
      "metadata": {
        "id": "dj39uGyHJSWZ"
      },
      "outputs": [],
      "source": [
        "# Mapping to X_train, y_train\n",
        "\n",
        "# Combine padded descriptors arrays and create label array\n",
        "X_train = np.vstack((mean_residential_train_descriptors, mean_forest_train_descriptors, mean_river_train_descriptors))\n",
        "y_train = np.concatenate((np.zeros(len(mean_residential_train_descriptors)),\n",
        "                          np.ones(len(mean_forest_train_descriptors)),\n",
        "                          2 * np.ones(len(mean_river_train_descriptors))))\n",
        "\n",
        "# Shuffle X_train and y_train\n",
        "random_indices = np.random.permutation(len(X_train))\n",
        "X_train = X_train[random_indices]\n",
        "y_train = y_train[random_indices]"
      ]
    },
    {
      "cell_type": "markdown",
      "metadata": {
        "id": "hXjpiYIk5SEr"
      },
      "source": [
        "# Implementation of MLE Classifier"
      ]
    },
    {
      "cell_type": "code",
      "execution_count": 25,
      "metadata": {
        "id": "kEeb6K5vBaCZ"
      },
      "outputs": [],
      "source": [
        "# class MLEClassifier:\n",
        "#     def __init__(self, num_classes):\n",
        "#         self.num_classes = num_classes\n",
        "#         self.class_priors = None\n",
        "#         self.class_means = None\n",
        "#         self.class_covariances = None\n",
        "\n",
        "#     def fit(self, X_train, y_train):\n",
        "#         # Calculate class priors\n",
        "#         self.class_priors = [np.mean(y_train == c) for c in range(self.num_classes)]\n",
        "\n",
        "#         # Calculate class means and covariances\n",
        "#         self.class_means = [np.mean(X_train[y_train == c], axis=0) for c in range(self.num_classes)]\n",
        "#         self.class_covariances = [np.cov(X_train[y_train == c], rowvar=False) for c in range(self.num_classes)]\n",
        "\n",
        "#     def predict(self, X_test):\n",
        "#         # Compute likelihoods and classify based on maximum likelihood\n",
        "#         predictions = []\n",
        "#         for x in X_test:\n",
        "#             likelihoods = [self._likelihood(x, c) for c in range(self.num_classes)]\n",
        "#             predicted_class = np.argmax(likelihoods)\n",
        "#             predictions.append(predicted_class)\n",
        "#         return np.array(predictions)\n",
        "\n",
        "#     def _likelihood(self, x, c):\n",
        "#         # Compute likelihood using multivariate Gaussian distribution (PDF)\n",
        "#         mean = self.class_means[c]\n",
        "#         covariance = self.class_covariances[c]\n",
        "#         likelihood = 1 / ((2 * np.pi) ** (len(x) / 2) * np.sqrt(np.linalg.det(covariance))) * \\\n",
        "#                      np.exp(-0.5 * np.dot(np.dot((x - mean).T, np.linalg.inv(covariance)), (x - mean)))\n",
        "#         return likelihood * self.class_priors[c]\n",
        "\n",
        "class MLEClassifier:\n",
        "    def __init__(self, num_classes, regularization=1e-6):\n",
        "        self.num_classes = num_classes\n",
        "        self.class_priors = None\n",
        "        self.class_means = None\n",
        "        self.class_covariances = None\n",
        "        self.regularization = regularization\n",
        "\n",
        "    def fit(self, X_train, y_train):\n",
        "        # Calculate class priors\n",
        "        self.class_priors = [np.mean(y_train == c) for c in range(self.num_classes)]\n",
        "\n",
        "        # Calculate class means and covariances\n",
        "        self.class_means = [np.mean(X_train[y_train == c], axis=0) for c in range(self.num_classes)]\n",
        "        \n",
        "        \"\"\"\n",
        "        np.eye(X_train.shape[1]) * self.regularization: This part creates a diagonal matrix (identity matrix) \n",
        "                                        with dimensions equal to the number of features in the training data (X_train.shape[1]).\n",
        "                                        Each element on the diagonal is multiplied by the regularization parameter self.regularization.\n",
        "                                        This regularization term is often added to the covariance matrix to prevent singularities.\n",
        "        \"\"\"\n",
        "        self.class_covariances = [np.cov(X_train[y_train == c], rowvar=False) +\n",
        "                                   np.eye(X_train.shape[1]) * self.regularization\n",
        "                                   for c in range(self.num_classes)]\n",
        "\n",
        "    def predict(self, X_test):\n",
        "        # Compute log-likelihoods and classify based on maximum likelihood\n",
        "        predictions = []\n",
        "        for x in X_test:\n",
        "            log_likelihoods = [self._log_likelihood(x, c) for c in range(self.num_classes)]\n",
        "            predicted_class = np.argmax(log_likelihoods)\n",
        "            predictions.append(predicted_class)\n",
        "        \n",
        "        return np.array(predictions)\n",
        "\n",
        "    def _log_likelihood(self, x, c):\n",
        "        # Compute log-likelihood using multivariate Gaussian distribution\n",
        "        mean = self.class_means[c]\n",
        "        covariance = self.class_covariances[c]\n",
        "\n",
        "        # Compute log determinant of covariance matrix\n",
        "        sign, log_det = np.linalg.slogdet(covariance)\n",
        "        if sign <= 0:\n",
        "            raise ValueError(\"Covariance matrix is not positive definite.\")\n",
        "\n",
        "        # Compute Mahalanobis distance in log space\n",
        "        mahalanobis_dist = -0.5 * (x - mean) @ np.linalg.solve(covariance, (x - mean))\n",
        "\n",
        "        # Compute log likelihood\n",
        "        log_likelihood = mahalanobis_dist - 0.5 * log_det + np.log(self.class_priors[c])\n",
        "        return log_likelihood\n",
        "\n",
        "\n",
        "mle_classifier = MLEClassifier(num_classes=3)\n",
        "mle_classifier.fit(X_train, y_train)"
      ]
    },
    {
      "cell_type": "code",
      "execution_count": 26,
      "metadata": {
        "id": "T6LwkrKhKwxW"
      },
      "outputs": [],
      "source": [
        "# Extract SIFT features for each class for the test dataset\n",
        "residential_test_descriptors = extract_sift_features(residential_test_images)\n",
        "forest_test_descriptors = extract_sift_features(forest_test_images)\n",
        "river_test_descriptors = extract_sift_features(river_test_images)\n",
        "\n",
        "mean_residential_test_descriptors = mean_descriptors(residential_test_descriptors, residential_test_images)\n",
        "mean_forest_test_descriptors = mean_descriptors(forest_test_descriptors, forest_test_images)\n",
        "mean_river_test_descriptors = mean_descriptors(river_test_descriptors, river_test_images)\n",
        "\n",
        "# Combine padded descriptors arrays and create label array\n",
        "X_test = np.vstack((mean_residential_test_descriptors, mean_forest_test_descriptors, mean_river_test_descriptors))\n",
        "y_test = np.concatenate((np.zeros(len(mean_residential_test_descriptors)),\n",
        "                          np.ones(len(mean_forest_test_descriptors)),\n",
        "                          2 * np.ones(len(mean_river_test_descriptors))))"
      ]
    },
    {
      "cell_type": "markdown",
      "metadata": {
        "id": "L88F62G75NpL"
      },
      "source": [
        "# Model Evaluation and Understanding"
      ]
    },
    {
      "cell_type": "code",
      "execution_count": 28,
      "metadata": {
        "colab": {
          "base_uri": "https://localhost:8080/",
          "height": 730
        },
        "id": "qh7pro2Q4W1K",
        "outputId": "1dd6afd9-3e8e-49c0-abf3-6fb424b7be4f"
      },
      "outputs": [
        {
          "name": "stdout",
          "output_type": "stream",
          "text": [
            "Accuracy: 0.9835294117647059\n",
            "Classification Report:\n",
            "              precision    recall  f1-score   support\n",
            "\n",
            "         0.0       1.00      0.96      0.98      2700\n",
            "         1.0       0.98      1.00      0.99      2700\n",
            "         2.0       0.97      0.99      0.98      2250\n",
            "\n",
            "    accuracy                           0.98      7650\n",
            "   macro avg       0.98      0.98      0.98      7650\n",
            "weighted avg       0.98      0.98      0.98      7650\n",
            "\n"
          ]
        },
        {
          "data": {
            "image/png": "[encoded data removed]",
            "text/plain": [
              "<Figure size 600x600 with 1 Axes>"
            ]
          },
          "metadata": {},
          "output_type": "display_data"
        }
      ],
      "source": [
        "# Get the accuracy and classification report for the train dataset\n",
        "train_predictions = mle_classifier.predict(X_train)\n",
        "accuracy = accuracy_score(y_train, train_predictions)\n",
        "print(\"Train dataset Accuracy:\", accuracy)\n",
        "\n",
        "print(\"Classification Report:\")\n",
        "print(classification_report(y_train, train_predictions))\n",
        "\n",
        "plt.figure(figsize=(6,6))\n",
        "cm = confusion_matrix(y_train, train_predictions, normalize='true')\n",
        "sns.heatmap(\n",
        "    cm, annot=True, cmap='Blues', cbar=False, fmt='.2f',\n",
        "    xticklabels=['residential', 'forest', 'river'], yticklabels=['residential', 'forest', 'river'])\n",
        "plt.show()"
      ]
    },
    {
      "cell_type": "code",
      "execution_count": 27,
      "metadata": {
        "colab": {
          "base_uri": "https://localhost:8080/",
          "height": 1000
        },
        "id": "z7Dd4jSkLd3-",
        "outputId": "0476b210-01f2-4446-d9ae-629ed87b2b23"
      },
      "outputs": [
        {
          "name": "stdout",
          "output_type": "stream",
          "text": [
            "Accuracy: 0.9870588235294118\n",
            "Classification Report:\n",
            "              precision    recall  f1-score   support\n",
            "\n",
            "         0.0       0.99      0.98      0.99       300\n",
            "         1.0       0.98      1.00      0.99       300\n",
            "         2.0       0.99      0.98      0.99       250\n",
            "\n",
            "    accuracy                           0.99       850\n",
            "   macro avg       0.99      0.99      0.99       850\n",
            "weighted avg       0.99      0.99      0.99       850\n",
            "\n"
          ]
        },
        {
          "data": {
            "image/png": "[encoded data removed]",
            "text/plain": [
              "<Figure size 600x600 with 1 Axes>"
            ]
          },
          "metadata": {},
          "output_type": "display_data"
        },
        {
          "name": "stdout",
          "output_type": "stream",
          "text": [
            "\n",
            "GaussianNB Accuracy: 0.9858823529411764\n",
            "Classification Report:\n",
            "              precision    recall  f1-score   support\n",
            "\n",
            "         0.0       0.99      0.98      0.98       300\n",
            "         1.0       0.98      1.00      0.99       300\n",
            "         2.0       0.99      0.98      0.99       250\n",
            "\n",
            "    accuracy                           0.99       850\n",
            "   macro avg       0.99      0.99      0.99       850\n",
            "weighted avg       0.99      0.99      0.99       850\n",
            "\n"
          ]
        },
        {
          "data": {
            "image/png": "[encoded data removed]",
            "text/plain": [
              "<Figure size 600x600 with 1 Axes>"
            ]
          },
          "metadata": {},
          "output_type": "display_data"
        }
      ],
      "source": [
        "# Get the accuracy and classification report for the test dataset\n",
        "predictions = mle_classifier.predict(X_test)\n",
        "accuracy = accuracy_score(y_test, predictions)\n",
        "print(\"Test dataset Accuracy:\", accuracy)\n",
        "\n",
        "print(\"Classification Report:\")\n",
        "print(classification_report(y_test, predictions))\n",
        "\n",
        "plt.figure(figsize=(6,6))\n",
        "cm = confusion_matrix(y_test, predictions, normalize='true')\n",
        "sns.heatmap(\n",
        "    cm, annot=True, cmap='Blues', cbar=False, fmt='.2f',\n",
        "    xticklabels=['residential', 'forest', 'river'], yticklabels=['residential', 'forest', 'river'])\n",
        "plt.show()\n",
        "\n",
        "print()\n",
        "# ====================================================\n",
        "\n",
        "# Testing Naive Bayes implementation from scikit-learn\n",
        "naive_bayes_model = GaussianNB()\n",
        "naive_bayes_model.fit(X_train, y_train)\n",
        "\n",
        "# Get the accuracy and classification report for the test dataset\n",
        "naive_bayes_predictions = naive_bayes_model.predict(X_test)\n",
        "logistic_accuracy = accuracy_score(y_test, naive_bayes_predictions)\n",
        "print(\"GaussianNB Accuracy:\", logistic_accuracy)\n",
        "\n",
        "print(\"Classification Report:\")\n",
        "print(classification_report(y_test, naive_bayes_predictions))\n",
        "\n",
        "plt.figure(figsize=(6,6))\n",
        "cm = confusion_matrix(y_test, naive_bayes_predictions, normalize='true')\n",
        "sns.heatmap(\n",
        "    cm, annot=True, cmap='Blues', cbar=False, fmt='.2f',\n",
        "    xticklabels=['residential', 'forest', 'river'], yticklabels=['residential', 'forest', 'river'])\n",
        "plt.show()"
      ]
    },
    {
      "cell_type": "markdown",
      "metadata": {},
      "source": [
        "### Should we consider this overfitted model?\n",
        "<div>\n",
        "<p>\n",
        "The answer is no because it's noticed that the accuracy on the training set is 0.9835294117647059 and the accuracy on the testing set is 0.9870588235294118 which means the accuracy on the testing set is greater than the accuracy on the training set and the difference between them is very small which means the model is not overfitted.\n",
        "</p>\n",
        "<p>\n",
        "As you can see from the following graph which represents the learning curve of unoverfitted model, the accuracy on the training set is decreasing (the error Ein increasing) and the accuracy on the testing set is also increasing (the error Eout decreasing) which means the model is learning and not overfitted.\n",
        "</p>\n",
        "<img src=\"./learning_curve.png\">\n",
        "<p>\n",
        "but in case of overfitted model, the accuracy on the training set is increasing (the error Ein decreasing) and the accuracy on the testing set is decreasing (the error Eout increasing) which means the model is overfitted. As you can see from the following graph which represents the learning curve of overfitted model. That means there is a big generalization error.\n",
        "</p>\n",
        "<img src=\"./overfitted_model.png\">\n",
        "\n",
        "</div>"
      ]
    },
    {
      "cell_type": "markdown",
      "metadata": {
        "id": "g_zN-tsEkxcY"
      },
      "source": [
        "## Submission Instructions\n",
        "\n",
        "To ensure a smooth evaluation process, please follow these steps for submitting your work:\n",
        "\n",
        "1. **Prepare Your Submission:** Alongside your main notebook, include any additional files that are necessary for running the notebook successfully. This might include data files, images, or supplementary scripts.\n",
        "\n",
        "2. **Rename Your Files:** Before submission, please rename your notebook to reflect the IDs of the two students working on this project. The format should be `ID1_ID2`, where `ID1` and `ID2` are the student IDs. For example, if the student IDs are `9123456` and `9876543`, then your notebook should be named `9123456_9876543.ipynb`.\n",
        "\n",
        "3. **Check for Completeness:** Ensure that all required tasks are completed and that the notebook runs from start to finish without errors. This step is crucial for a smooth evaluation.\n",
        "\n",
        "4. **Submit Your Work:** Once everything is in order, submit your notebook and any additional files via the designated submission link on Google Classroom **(code: 2yj6e24)**. Make sure you meet the submission deadline to avoid any late penalties.\n",
        "5. Please, note that the same student should submit the assignments for the pair throughout the semester.\n",
        "\n",
        "By following these instructions carefully, you help us in evaluating your work efficiently and fairly **and any failure to adhere to these guidelines can affect your grades**. If you encounter any difficulties or have questions about the submission process, please reach out as soon as possible.\n",
        "\n",
        "We look forward to seeing your completed projects and wish you the best of luck!\n"
      ]
    }
  ],
  "metadata": {
    "colab": {
      "provenance": []
    },
    "kernelspec": {
      "display_name": "Python 3",
      "name": "python3"
    },
    "language_info": {
      "codemirror_mode": {
        "name": "ipython",
        "version": 3
      },
      "file_extension": ".py",
      "mimetype": "text/x-python",
      "name": "python",
      "nbconvert_exporter": "python",
      "pygments_lexer": "ipython3",
      "version": "3.8.18"
    }
  },
  "nbformat": 4,
  "nbformat_minor": 0
}
